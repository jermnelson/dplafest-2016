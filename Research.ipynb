{
 "cells": [
  {
   "cell_type": "markdown",
   "metadata": {},
   "source": [
    "# DPLAfest Research Notebook"
   ]
  },
  {
   "cell_type": "code",
   "execution_count": 1,
   "metadata": {
    "collapsed": false
   },
   "outputs": [
    {
     "data": {
      "text/plain": [
       "'2016-02-23T23:01:21.385362'"
      ]
     },
     "execution_count": 1,
     "metadata": {},
     "output_type": "execute_result"
    }
   ],
   "source": [
    "import datetime\n",
    "datetime.datetime.utcnow().isoformat()"
   ]
  },
  {
   "cell_type": "markdown",
   "metadata": {},
   "source": [
    "### First Run of dpla2resp.py on  using DPLA uiuc.json \n",
    "\n",
    "*   **Date** 2016-02-18T23:31:30.293867\n",
    "*   **Program Output**:\n",
    "<pre>\n",
    "Starting conversion from DPLA JSON to RESP at 2016-02-18T23:14:11.811667\n",
    "Finished conversion of DPLA to RESP at 2016-02-18T23:19:13.380267, total time 5.016666666666667 minutes\n",
    "</pre>\n",
    "*   **UIUC Resp file size**: \n",
    "<pre>\n",
    "    -a---         2/18/2016   4:19 PM  245817136 output.resp\n",
    "</pre>\n",
    "\n",
    "### Second Run of dpla2resp.py on  using DPLA uiuc.json \n",
    "*   **Date** 2016-02-18T23:47:21.61342\n",
    "*   **Program Output**:\n",
    "<pre>\n",
    "Starting conversion from DPLA JSON to RESP at 2016-02-18T23:41:13.767339\n",
    "Finished conversion of DPLA to RESP at 2016-02-18T23:46:48.130425, total time 5.566666666666666 minutes\n",
    "</pre>\n",
    "*   **UIUC Resp file size**: \n",
    "<pre>\n",
    "-a---         2/18/2016   4:46 PM  242124486 output.resp\n",
    "</pre>\n",
    "\n",
    "### Third Run of dpla2resp.py on  using DPLA uiuc.json \n",
    "*   **Date** \n",
    "*   **Program Output**:\n",
    "<pre>\n",
    "Starting conversion from DPLA JSON to RESP at \n",
    "Finished conversion of DPLA to RESP at , total time 5.683333333333334 minutes\n",
    "</pre>\n",
    "*   **UIUC Resp file size**: \n",
    "<pre>\n",
    "-a---         2/18/2016   5:40 PM  267945169 output.resp\n",
    "</pre>\n",
    "*   **Bulk upload time**:\n",
    "<pre>\n",
    "time `cat uiuc.resp | ~/redis-3.2.0-rc3/src/redis-cli --pipe`\n",
    "All: command not found\n",
    "real    0m5.051s\n",
    "user    0m0.355s\n",
    "sys     0m0.289s\n",
    "</pre>\n",
    "\n",
    "Size and memory of Redis Linked Data Fragments Cache:\n",
    "<pre>\n",
    "127.0.0.1:6379> DBSIZE\n",
    "(integer) 10702\n",
    "127.0.0.1:6379> INFO memory\n",
    "# Memory\n",
    "used_memory:60133768\n",
    "used_memory_human:57.35M\n",
    "used_memory_rss:68943872\n",
    "used_memory_rss_human:65.75M\n",
    "used_memory_peak:60133768\n",
    "used_memory_peak_human:57.35M\n",
    "total_system_memory:2099204096\n",
    "total_system_memory_human:1.96G\n",
    "used_memory_lua:37888\n",
    "used_memory_lua_human:37.00K\n",
    "maxmemory:0\n",
    "maxmemory_human:0B\n",
    "maxmemory_policy:volatile-lru\n",
    "mem_fragmentation_ratio:1.15\n",
    "mem_allocator:jemalloc-4.0.3\n",
    "\n",
    "</pre>\n",
    "(**NOTE** If running dpla2resp.py in Windows, don't forget to run the Linux utility `dos2unix`) "
   ]
  },
  {
   "cell_type": "markdown",
   "metadata": {
    "collapsed": true
   },
   "source": [
    "### First Run of dpla2resp.py on  using DPLA getty.json \n",
    "*   **Date** 2016-02-23T23:01:21.385362\n",
    "*   **Program Output**:\n",
    "<pre>\n",
    "Starting conversion from DPLA JSON to RESP at 2016-02-23T22:57:00.135235\n",
    "Finised onversion of DPLA to RESP at 2016-02-23T23:36:37.650250, total time 39.61666666666667 minutes\n",
    "</pre>\n",
    "*   **Getty Resp file size**: \n",
    "<pre>\n",
    "-a---         2/23/2016   4:36 PM 1104372723 output.resp\n",
    "</pre>\n",
    "*   **Bulk upload time**:\n",
    "<pre>\n",
    "127.0.0.1:6379> DBSIZE\n",
    "(integer) 20193\n",
    "127.0.0.1:6379> INFO memory\n",
    "# Memory\n",
    "used_memory:32935264\n",
    "used_memory_human:31.41M\n",
    "used_memory_rss:41291776\n",
    "used_memory_rss_human:39.38M\n",
    "used_memory_peak:59846840\n",
    "used_memory_peak_human:57.07M\n",
    "total_system_memory:2099204096\n",
    "total_system_memory_human:1.96G\n",
    "used_memory_lua:37888\n",
    "used_memory_lua_human:37.00K\n",
    "maxmemory:0\n",
    "maxmemory_human:0B\n",
    "maxmemory_policy:volatile-lru\n",
    "mem_fragmentation_ratio:1.25\n",
    "mem_allocator:jemalloc-4.0.3\n",
    "</pre>"
   ]
  },
  {
   "cell_type": "code",
   "execution_count": null,
   "metadata": {
    "collapsed": true
   },
   "outputs": [],
   "source": []
  }
 ],
 "metadata": {
  "kernelspec": {
   "display_name": "Python 3",
   "language": "python",
   "name": "python3"
  },
  "language_info": {
   "codemirror_mode": {
    "name": "ipython",
    "version": 3
   },
   "file_extension": ".py",
   "mimetype": "text/x-python",
   "name": "python",
   "nbconvert_exporter": "python",
   "pygments_lexer": "ipython3",
   "version": "3.4.3"
  }
 },
 "nbformat": 4,
 "nbformat_minor": 0
}
