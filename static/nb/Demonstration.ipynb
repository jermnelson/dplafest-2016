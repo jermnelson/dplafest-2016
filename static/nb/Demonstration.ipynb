{
 "cells": [
  {
   "cell_type": "markdown",
   "metadata": {},
   "source": [
    "# Demonstration for DPLAfest 2016 "
   ]
  },
  {
   "cell_type": "code",
   "execution_count": null,
   "metadata": {
    "collapsed": true
   },
   "outputs": [],
   "source": [
    "import redis\n",
    "import requests\n",
    "ldfs_cache = redis.StrictRedis() # Connecting to a locally running Redis"
   ]
  },
  {
   "cell_type": "code",
   "execution_count": null,
   "metadata": {
    "collapsed": false
   },
   "outputs": [],
   "source": [
    "print(\"Subject \", ldfs_cache.get('b3dd113c3c9fbf71f7f0d09ffc933f86c4f1a79a'))\n",
    "print(\"Predicate \", ldfs_cache.get('5bb8348058bfded2e2fbfa2e31fadb7ea6f0a562'))\n",
    "print(\"Object \", ldfs_cache.get('1e88f52951864dbbbc347bcce4f484ed2d9d115a'))"
   ]
  },
  {
   "cell_type": "code",
   "execution_count": null,
   "metadata": {
    "collapsed": false
   },
   "outputs": [],
   "source": [
    "print(\"Subject Triples set\")\n",
    "for member in ldfs_cache.smembers('b3dd113c3c9fbf71f7f0d09ffc933f86c4f1a79a:pred-obj'):\n",
    "    print(member)"
   ]
  },
  {
   "cell_type": "code",
   "execution_count": null,
   "metadata": {
    "collapsed": false
   },
   "outputs": [],
   "source": [
    "predicate_key = \"5bb8348058bfded2e2fbfa2e31fadb7ea6f0a562:subj-obj\"\n",
    "print(\"Predicate Triple Set, total number of members {}\".format(ldfs_cache.scard(predicate_key)))\n",
    "for member in list(ldfs_cache.smembers(predicate_key))[0:20]:\n",
    "    print(member)"
   ]
  },
  {
   "cell_type": "code",
   "execution_count": null,
   "metadata": {
    "collapsed": false
   },
   "outputs": [],
   "source": [
    "object_key = \"1e88f52951864dbbbc347bcce4f484ed2d9d115a:subj-pred\"\n",
    "print(\"Object Triples Set\")\n",
    "for member in ldfs_cache.smembers(object_key):\n",
    "    print(member)"
   ]
  },
  {
   "cell_type": "markdown",
   "metadata": {},
   "source": [
    "## JSON Web Service"
   ]
  },
  {
   "cell_type": "code",
   "execution_count": null,
   "metadata": {
    "collapsed": false
   },
   "outputs": [],
   "source": [
    "result = requests.get(\"http://localhost:18150\",\n",
    "                      data={\"s\": \"http://dp.la/api/items/2e00995604348128caa10cd8f0e5952f#sourceResource\"})\n",
    "print(\"Subject Predicate-Object Search result={}\".format(result.status_code))\n",
    "for row in result.json()['data']:\n",
    "    print(row)"
   ]
  },
  {
   "cell_type": "code",
   "execution_count": null,
   "metadata": {
    "collapsed": false
   },
   "outputs": [],
   "source": [
    "result = requests.get(\"http://localhost:18150\", \n",
    "                      data={\"s\": \"http://dp.la/api/items/2e00995604348128caa10cd8f0e5952f#sourceResource\",\n",
    "                            \"p\": 'http://purl.org/dc/elements/1.1/type'})\n",
    "print(\"Subject-Predicate Search status={}\".format(result.status_code))\n",
    "print(\"Metadata\",result.json()['metadata'])\n",
    "for row in result.json()['data']:\n",
    "    print(row)"
   ]
  },
  {
   "cell_type": "code",
   "execution_count": null,
   "metadata": {
    "collapsed": false
   },
   "outputs": [],
   "source": [
    "result = requests.get(\"http://localhost:18150\", \n",
    "                      data={\"s\": \"http://dp.la/api/items/2e00995604348128caa10cd8f0e5952f#sourceResource\",\n",
    "                            \"o\": \"image\"})\n",
    "print(\"Subject-Object Search status={}\".format(result.status_code))\n",
    "for row in result.json()['data']:\n",
    "    print(row)"
   ]
  },
  {
   "cell_type": "code",
   "execution_count": null,
   "metadata": {
    "collapsed": false
   },
   "outputs": [],
   "source": [
    "result = requests.get(\"http://localhost:18150\", \n",
    "                      data={\"p\": 'http://purl.org/dc/elements/1.1/type'})\n",
    "print(\"Predicate Search status={}\".format(result.status_code))\n",
    "for row in result.json()['data'][0:20]:\n",
    "    print(row)"
   ]
  },
  {
   "cell_type": "code",
   "execution_count": null,
   "metadata": {
    "collapsed": false
   },
   "outputs": [],
   "source": [
    "result = requests.get(\"http://localhost:18150\", \n",
    "                      data={\"p\": 'http://purl.org/dc/elements/1.1/type',\n",
    "                            \"s\": \"http://dp.la/api/items/c450655ee47f2908911056746b02d2f1#sourceResource\"})\n",
    "print(\"Predicate-Subject Search status={}\".format(result.status_code))\n",
    "for row in result.json()['data']:\n",
    "    print(row)"
   ]
  },
  {
   "cell_type": "code",
   "execution_count": null,
   "metadata": {
    "collapsed": false
   },
   "outputs": [],
   "source": [
    "result = requests.get(\"http://localhost:18150\", \n",
    "                      data={\"p\": 'http://purl.org/dc/elements/1.1/type',\n",
    "                            \"o\": \"text\"})\n",
    "print(\"Predicate-Object Search status={}\".format(result.status_code))\n",
    "for row in result.json()['data'][0:20]:\n",
    "    print(row)"
   ]
  },
  {
   "cell_type": "code",
   "execution_count": null,
   "metadata": {
    "collapsed": false
   },
   "outputs": [],
   "source": [
    "result = requests.get(\"http://localhost:18150\", \n",
    "                      data={\"o\": \"Hello World\"})\n",
    "print(\"Object Search status={}\".format(result.status_code))\n",
    "print(result.json())"
   ]
  }
 ],
 "metadata": {
  "kernelspec": {
   "display_name": "Python 3",
   "language": "python",
   "name": "python3"
  },
  "language_info": {
   "codemirror_mode": {
    "name": "ipython",
    "version": 3
   },
   "file_extension": ".py",
   "mimetype": "text/x-python",
   "name": "python",
   "nbconvert_exporter": "python",
   "pygments_lexer": "ipython3",
   "version": "3.5.0"
  }
 },
 "nbformat": 4,
 "nbformat_minor": 0
}
