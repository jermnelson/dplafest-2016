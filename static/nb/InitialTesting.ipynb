{
 "cells": [
  {
   "cell_type": "code",
   "execution_count": 21,
   "metadata": {
    "collapsed": false
   },
   "outputs": [
    {
     "name": "stdout",
     "output_type": "stream",
     "text": [
      "0 2016-04-04T00:45:23.691425\n"
     ]
    }
   ],
   "source": [
    "import redis, datetime\n",
    "ldfs_cache = redis.StrictRedis()\n",
    "print(ldfs_cache.dbsize(), datetime.datetime.utcnow().isoformat())"
   ]
  },
  {
   "cell_type": "code",
   "execution_count": 22,
   "metadata": {
    "collapsed": false,
    "scrolled": true
   },
   "outputs": [
    {
     "name": "stdout",
     "output_type": "stream",
     "text": [
      "E:/2016/linked-data-fragments/lib/add_get_triple.lua True\n",
      "E:/2016/linked-data-fragments/lib/triple_pattern_search.lua True\n",
      "E:/2016/linked-data-fragments/lib/get_triple.lua True\n"
     ]
    }
   ],
   "source": [
    "import json, rdflib, os\n",
    "LUA_LOCATION = \"E:/2016/linked-data-fragments/lib/\"\n",
    "LUA_SCRIPTS = dict()\n",
    "def setup():\n",
    "    for name in [\"add_get_triple\",\n",
    "                 \"triple_pattern_search\",\n",
    "                \"get_triple\"]:\n",
    "        filepath = os.path.join(\n",
    "            LUA_LOCATION, \"{}.lua\".format(name))\n",
    "        print(filepath, os.path.exists(filepath))\n",
    "        with open(filepath) as fo:\n",
    "            lua_script = fo.read()\n",
    "        sha1 = ldfs_cache.script_load(lua_script)\n",
    "        LUA_SCRIPTS[name] = sha1\n",
    "setup()"
   ]
  },
  {
   "cell_type": "code",
   "execution_count": 1,
   "metadata": {
    "collapsed": true
   },
   "outputs": [],
   "source": [
    "def process_source(source):\n",
    "    triples_processed = 0\n",
    "    rec_graph = rdflib.Graph()\n",
    "    rec_graph.parse(data=json.dumps(source), format='json-ld')\n",
    "    for s,p,o in rec_graph:\n",
    "        triples_processed += 1\n",
    "        ldfs_cache.evalsha(LUA_SCRIPTS[\"add_get_triple\"], 3, str(s), str(p), str(o))\n",
    "    return triples_processed\n",
    "\n",
    "def process_dpla_json(dpla_filepath):\n",
    "    dpla_json = json.load(open(dpla_filepath, errors='ignore'))\n",
    "    start = datetime.datetime.utcnow()\n",
    "    total_triples = 0\n",
    "    print(\"Started processing {} records at {}\".format(len(dpla_json), start.isoformat()))\n",
    "    for i,row in enumerate(dpla_json):\n",
    "        total_triples += process_source(row['_source'])\n",
    "        if not i%100 and i>0:\n",
    "            print(\".\", end=\"\")\n",
    "        if not i%1000:\n",
    "            print(i, end=\"\")\n",
    "        if not i%5000 and i > 0:\n",
    "            print(\" triples={} \".format(total_triples))\n",
    "    end = datetime.datetime.utcnow()\n",
    "    print(\"Finished processing at {}, total time {} mins. Records {} Triples {}\".format(\n",
    "        end.isoformat(),\n",
    "        (end-start).seconds / 60.0,\n",
    "        len(dpla_json),\n",
    "        total_triples))\n",
    "        "
   ]
  },
  {
   "cell_type": "code",
   "execution_count": 24,
   "metadata": {
    "collapsed": false
   },
   "outputs": [
    {
     "name": "stdout",
     "output_type": "stream",
     "text": [
      "Started processing 18231 records at 2016-04-04T00:45:43.291844\n",
      "0..........1000..........2000..........3000..........4000..........5000 triples=180970 \n",
      "..........6000..........7000..........8000..........9000..........10000 triples=359397 \n",
      "..........11000..........12000..........13000..........14000..........15000 triples=539682 \n",
      "..........16000..........17000..........18000..Finished processing at 2016-04-04T01:51:54.969163, total time 66.18333333333334 mins. Records 18231 Triples 656382\n"
     ]
    }
   ],
   "source": [
    "process_dpla_json(\"E:/2016/tmp/uiuc.json\")"
   ]
  },
  {
   "cell_type": "code",
   "execution_count": 25,
   "metadata": {
    "collapsed": false
   },
   "outputs": [
    {
     "data": {
      "text/plain": [
       "607982"
      ]
     },
     "execution_count": 25,
     "metadata": {},
     "output_type": "execute_result"
    }
   ],
   "source": [
    "ldfs_cache.dbsize()"
   ]
  },
  {
   "cell_type": "code",
   "execution_count": 26,
   "metadata": {
    "collapsed": false
   },
   "outputs": [
    {
     "data": {
      "text/plain": [
       "68300"
      ]
     },
     "execution_count": 26,
     "metadata": {},
     "output_type": "execute_result"
    }
   ],
   "source": [
    "607982-539682"
   ]
  },
  {
   "cell_type": "code",
   "execution_count": 28,
   "metadata": {
    "collapsed": false
   },
   "outputs": [
    {
     "name": "stdout",
     "output_type": "stream",
     "text": [
      "Starting Getty size=0\n"
     ]
    }
   ],
   "source": [
    "print(\"Starting Getty size={}\".format(ldfs_cache.dbsize()))"
   ]
  },
  {
   "cell_type": "code",
   "execution_count": null,
   "metadata": {
    "collapsed": true
   },
   "outputs": [],
   "source": [
    "process_dpla_json(\"E:/2016/tmp/getty.json\")"
   ]
  },
  {
   "cell_type": "code",
   "execution_count": null,
   "metadata": {
    "collapsed": true
   },
   "outputs": [],
   "source": []
  }
 ],
 "metadata": {
  "kernelspec": {
   "display_name": "Python 3",
   "language": "python",
   "name": "python3"
  },
  "language_info": {
   "codemirror_mode": {
    "name": "ipython",
    "version": 3
   },
   "file_extension": ".py",
   "mimetype": "text/x-python",
   "name": "python",
   "nbconvert_exporter": "python",
   "pygments_lexer": "ipython3",
   "version": "3.5.0"
  }
 },
 "nbformat": 4,
 "nbformat_minor": 0
}
